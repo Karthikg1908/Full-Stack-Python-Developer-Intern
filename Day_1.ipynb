{
  "nbformat": 4,
  "nbformat_minor": 0,
  "metadata": {
    "colab": {
      "provenance": [],
      "authorship_tag": "ABX9TyPrekzzWAoLS3IHeATWVXb3",
      "include_colab_link": true
    },
    "kernelspec": {
      "name": "python3",
      "display_name": "Python 3"
    },
    "language_info": {
      "name": "python"
    }
  },
  "cells": [
    {
      "cell_type": "markdown",
      "metadata": {
        "id": "view-in-github",
        "colab_type": "text"
      },
      "source": [
        "<a href=\"https://colab.research.google.com/github/Karthikg1908/Intership/blob/main/Day_1.ipynb\" target=\"_parent\"><img src=\"https://colab.research.google.com/assets/colab-badge.svg\" alt=\"Open In Colab\"/></a>"
      ]
    },
    {
      "cell_type": "code",
      "execution_count": 2,
      "metadata": {
        "colab": {
          "base_uri": "https://localhost:8080/"
        },
        "id": "8APyzL8q5DXL",
        "outputId": "2d70c041-d5bc-4aca-811a-6b356c9687d9"
      },
      "outputs": [
        {
          "output_type": "stream",
          "name": "stdout",
          "text": [
            "Enter the score: 55\n",
            "D\n"
          ]
        }
      ],
      "source": [
        "'''\n",
        "Question:\n",
        "You are tasked with writing a Python script  using 'If' statement that evaluates a student's grade based on their score.\n",
        "\n",
        "Input:\n",
        "\t* An integer score representing the student's score.\n",
        "        * You must use the variable \"score\" in your implementation.\n",
        "\n",
        "Output:\n",
        "\t* Print \"A\" if the score is 90 or above.\n",
        "\t* Print \"B\" if the score is between 80 and 89 (inclusive).\n",
        "\t* Print \"C\" if the score is between 70 and 79 (inclusive).\n",
        "\t* Print \"D\" for any score below 70.\n",
        "        * Print \"Invalid score\" if score is less than 0 or greater than 100.\n",
        "\n",
        "Constraints:\n",
        "        * Input score must be an integer.\n",
        "'''\n",
        "\n",
        "score = int(input(\"Enter the score: \"))\n",
        "if score < 0 or score > 100:\n",
        "    print(\"Invalid score\")\n",
        "elif score >= 90:\n",
        "    print(\"A\")\n",
        "elif score >= 80:\n",
        "    print(\"B\")\n",
        "elif score >= 70:\n",
        "    print(\"C\")\n",
        "else:\n",
        "    print(\"D\")\n",
        ""
      ]
    },
    {
      "cell_type": "code",
      "source": [
        "'''\n",
        "Question:\n",
        "Write a Python program to determine if a student is eligible for a scholarship based on their marks.\n",
        "\n",
        "Input:\n",
        "\t* An integer marks representing the student's marks.\n",
        "\t* You must use the variable \"marks\" in your implementation.\n",
        "\n",
        "Output:\n",
        "\t* If marks is greater than or equal to 90, print \"You are eligible for a scholarship\".\n",
        "\t* If marks is less than 90, print \"You are not eligible for a scholarship\".\n",
        "\t* If the input marks is outside the range 0 < marks ≤ 100, print \"Invalid marks\".\n",
        "\n",
        "Constraints:\n",
        "\t* Input marks must be an integer.\n",
        "'''\n",
        "\n",
        "marks = int(input(\"Enter Marks\"))\n",
        "if marks < 0 or marks >100:\n",
        "    print(\"Invalid marks\")\n",
        "elif marks >= 90:\n",
        "    print(\"You are eligible for a scholarship\")\n",
        "else:\n",
        "    print(\"You are not eligible for a scholarship\")"
      ],
      "metadata": {
        "colab": {
          "base_uri": "https://localhost:8080/"
        },
        "id": "DX09F-nY5P_Z",
        "outputId": "d2244cf7-9b27-42d2-c07b-ba645e4e1df1"
      },
      "execution_count": 4,
      "outputs": [
        {
          "output_type": "stream",
          "name": "stdout",
          "text": [
            "Enter Marks100\n",
            "You are eligible for a scholarship\n"
          ]
        }
      ]
    },
    {
      "cell_type": "code",
      "source": [],
      "metadata": {
        "id": "0p5AzYOm689G"
      },
      "execution_count": null,
      "outputs": []
    }
  ]
}